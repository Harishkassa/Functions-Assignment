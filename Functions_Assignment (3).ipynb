{
  "nbformat": 4,
  "nbformat_minor": 0,
  "metadata": {
    "colab": {
      "provenance": []
    },
    "kernelspec": {
      "name": "python3",
      "display_name": "Python 3"
    },
    "language_info": {
      "name": "python"
    }
  },
  "cells": [
    {
      "cell_type": "markdown",
      "source": [],
      "metadata": {
        "id": "HdnWB0zs1c2B"
      }
    },
    {
      "cell_type": "markdown",
      "source": [
        "1. What is the difference between a function and a method in Python?\n"
      ],
      "metadata": {
        "id": "8dpQd7eS1c4r"
      }
    },
    {
      "cell_type": "markdown",
      "source": [
        "-> A function is independent block of code. On the other hand method is always a part of an object."
      ],
      "metadata": {
        "id": "83y3xIFS1c7a"
      }
    },
    {
      "cell_type": "code",
      "source": [
        "# For Example\n",
        "print(\"Hello World\")\n",
        "result = \"hello\".upper()\n",
        "print(result)"
      ],
      "metadata": {
        "colab": {
          "base_uri": "https://localhost:8080/"
        },
        "id": "5wrSQLig13fR",
        "outputId": "7cf248b7-48b5-4a02-dea5-9056ffdf8a71"
      },
      "execution_count": null,
      "outputs": [
        {
          "output_type": "stream",
          "name": "stdout",
          "text": [
            "Hello World\n",
            "HELLO\n"
          ]
        }
      ]
    },
    {
      "cell_type": "markdown",
      "source": [
        "2. Explain the concept of function arguments and parameters in Python."
      ],
      "metadata": {
        "id": "f6Fq-w4o1c-K"
      }
    },
    {
      "cell_type": "markdown",
      "source": [
        "-> The Argument and Parameters is a process in which we add an input a data to get some meaningful answer and in funtion the parameter is assigned at function defination as placeholder or label and arguments is assigned at function calling as a function calling as Real value or data."
      ],
      "metadata": {
        "id": "bCPP6jJ41dDm"
      }
    },
    {
      "cell_type": "markdown",
      "source": [
        "3. What are the different ways to define and call a function in Python?"
      ],
      "metadata": {
        "id": "Lx_DBrQm1dF8"
      }
    },
    {
      "cell_type": "markdown",
      "source": [
        "-> there are many different way to define a function...."
      ],
      "metadata": {
        "id": "eopmCdG11dI1"
      }
    },
    {
      "cell_type": "code",
      "source": [
        "# Normal Function\n",
        "# def function_name():\n",
        "#   pass\n",
        "\n",
        "# Function with Parameter\n",
        "# def function_name(label_parameter):\n",
        "#   print(parmaeter)\n",
        "\n",
        "# function_name(actual_argument)\n",
        "\n",
        "# Function with One Line\n",
        "# print(i**2 for i in range(5))\n",
        "\n",
        "# Ananyumous Function\n",
        "# x = lambda x: x + 2\n",
        "# print(x(5))"
      ],
      "metadata": {
        "colab": {
          "base_uri": "https://localhost:8080/",
          "height": 211
        },
        "id": "_8o8hu5_n1SB",
        "outputId": "d9f1fd4f-3853-4596-c539-9eeeb3395f3b"
      },
      "execution_count": null,
      "outputs": [
        {
          "output_type": "error",
          "ename": "NameError",
          "evalue": "name 'actual_argument' is not defined",
          "traceback": [
            "\u001b[0;31m---------------------------------------------------------------------------\u001b[0m",
            "\u001b[0;31mNameError\u001b[0m                                 Traceback (most recent call last)",
            "\u001b[0;32m/tmp/ipython-input-5-3856129228.py\u001b[0m in \u001b[0;36m<cell line: 0>\u001b[0;34m()\u001b[0m\n\u001b[1;32m      7\u001b[0m   \u001b[0mprint\u001b[0m\u001b[0;34m(\u001b[0m\u001b[0mparmaeter\u001b[0m\u001b[0;34m)\u001b[0m\u001b[0;34m\u001b[0m\u001b[0;34m\u001b[0m\u001b[0m\n\u001b[1;32m      8\u001b[0m \u001b[0;34m\u001b[0m\u001b[0m\n\u001b[0;32m----> 9\u001b[0;31m \u001b[0mfunction_name\u001b[0m\u001b[0;34m(\u001b[0m\u001b[0mactual_argument\u001b[0m\u001b[0;34m)\u001b[0m\u001b[0;34m\u001b[0m\u001b[0;34m\u001b[0m\u001b[0m\n\u001b[0m\u001b[1;32m     10\u001b[0m \u001b[0;34m\u001b[0m\u001b[0m\n\u001b[1;32m     11\u001b[0m \u001b[0;31m# Function with One Line\u001b[0m\u001b[0;34m\u001b[0m\u001b[0;34m\u001b[0m\u001b[0m\n",
            "\u001b[0;31mNameError\u001b[0m: name 'actual_argument' is not defined"
          ]
        }
      ]
    },
    {
      "cell_type": "markdown",
      "source": [
        "4. What is the purpose of the `return` statement in a Python function?\n",
        "\n"
      ],
      "metadata": {
        "id": "Wjb2T5rR1dLo"
      }
    },
    {
      "cell_type": "markdown",
      "source": [
        "-> for return any result to print the answer. i.e whenever we return any value it stores the value of that function where it calls."
      ],
      "metadata": {
        "id": "cdxnGL-z1dOY"
      }
    },
    {
      "cell_type": "markdown",
      "source": [
        "5. What are iterators in Python and how do they differ from iterables?"
      ],
      "metadata": {
        "id": "waOFVlS01dRB"
      }
    },
    {
      "cell_type": "markdown",
      "source": [],
      "metadata": {
        "id": "Q096Ozlbpwxv"
      }
    },
    {
      "cell_type": "markdown",
      "source": [
        "-> Iterators in python is a providing each item in each time when you called it. in iterable case, the all items is returned in one time.\n"
      ],
      "metadata": {
        "id": "Bfez32W_pwvG"
      }
    },
    {
      "cell_type": "code",
      "source": [
        "# iterator\n",
        "nums = [12,3,4,10,6,7,8]\n",
        "it = iter(nums)\n",
        "\n",
        "print(next(it))\n",
        "print(next(it))\n",
        "\n",
        "# iterable\n",
        "for i in range(1,5):\n",
        "  print(i)"
      ],
      "metadata": {
        "colab": {
          "base_uri": "https://localhost:8080/"
        },
        "id": "tNUu-59TrACL",
        "outputId": "c83f64ba-e028-43bd-a6fa-014f68b8e9c3"
      },
      "execution_count": null,
      "outputs": [
        {
          "output_type": "stream",
          "name": "stdout",
          "text": [
            "12\n",
            "3\n",
            "1\n",
            "2\n",
            "3\n",
            "4\n"
          ]
        }
      ]
    },
    {
      "cell_type": "markdown",
      "source": [
        "6. Explain the concept of generators in Python and how they are defined."
      ],
      "metadata": {
        "id": "B2bZldkMpw1T"
      }
    },
    {
      "cell_type": "markdown",
      "source": [
        "-> The generator is useful for getting the on demand items in one at a time. so it useful for saving the memory."
      ],
      "metadata": {
        "id": "1EC86qhhpw-3"
      }
    },
    {
      "cell_type": "code",
      "source": [
        "# Generators\n",
        "def my_generator(n):\n",
        "  yield(n)\n",
        "\n",
        "\n",
        "for i in range(1,5):\n",
        "  res = my_generator(i)\n",
        "  print(next(res))"
      ],
      "metadata": {
        "colab": {
          "base_uri": "https://localhost:8080/"
        },
        "id": "fTn0rK6Ls5R8",
        "outputId": "5af339c1-b57e-470c-a26b-d072d4e5472d"
      },
      "execution_count": null,
      "outputs": [
        {
          "output_type": "stream",
          "name": "stdout",
          "text": [
            "1\n",
            "2\n",
            "3\n",
            "4\n"
          ]
        }
      ]
    },
    {
      "cell_type": "markdown",
      "source": [
        "7. What are the advantages of using generators over regular functions?"
      ],
      "metadata": {
        "id": "aD1u2xNotdww"
      }
    },
    {
      "cell_type": "markdown",
      "source": [
        "-> In generator it provides each element in on demnand when you called it and its saves memory. While the normal function prints all the full elements in one time."
      ],
      "metadata": {
        "id": "ykE0QrHutdzQ"
      }
    },
    {
      "cell_type": "markdown",
      "source": [
        "8. What is a lambda function in Python and when is it typically used?\n",
        "\n"
      ],
      "metadata": {
        "id": "LGl2UmFltd22"
      }
    },
    {
      "cell_type": "markdown",
      "source": [
        "-> Lambda function is anynumous function (Oneline function) for lightweight problem solution. it has no any name so that's why it called anynumous function."
      ],
      "metadata": {
        "id": "uDWdG_wAuF5J"
      }
    },
    {
      "cell_type": "code",
      "source": [
        "# Lambda function\n",
        "\n",
        "x = lambda x,y : x+y\n",
        "res = x(2,3)\n",
        "print(res)"
      ],
      "metadata": {
        "colab": {
          "base_uri": "https://localhost:8080/"
        },
        "id": "QzmMNoabt7Re",
        "outputId": "6db25c73-34f6-445f-f226-2519baf73a02"
      },
      "execution_count": null,
      "outputs": [
        {
          "output_type": "stream",
          "name": "stdout",
          "text": [
            "5\n"
          ]
        }
      ]
    },
    {
      "cell_type": "markdown",
      "source": [
        "9. Explain the purpose and usage of the `map()` function in Python"
      ],
      "metadata": {
        "id": "qnKCTsqU1d6L"
      }
    },
    {
      "cell_type": "markdown",
      "source": [
        "-> Purpose of the map is to apply the function to all the elements in the iterable."
      ],
      "metadata": {
        "id": "_TjtZvrq2sPX"
      }
    },
    {
      "cell_type": "code",
      "source": [
        "# map\n",
        "res = list(map(lambda x: x*2,[1,2,4,3]))\n",
        "print(res)"
      ],
      "metadata": {
        "colab": {
          "base_uri": "https://localhost:8080/"
        },
        "id": "RBcODWVp2hoF",
        "outputId": "0fa4fa03-4a38-4b18-c900-b7c1d7fdb922"
      },
      "execution_count": null,
      "outputs": [
        {
          "output_type": "stream",
          "name": "stdout",
          "text": [
            "[2, 4, 8, 6]\n"
          ]
        }
      ]
    },
    {
      "cell_type": "markdown",
      "source": [
        "10. What is the difference between `map()`, `reduce()`, and `filter()` functions in Python?"
      ],
      "metadata": {
        "id": "d8FSBPfL5lX9"
      }
    },
    {
      "cell_type": "markdown",
      "source": [
        "-> In map it useful for applying a function to each element in iterable and in reduce it useful for getting the one single data and filter is useful getting the only that which is according to the condition which you provide in the code."
      ],
      "metadata": {
        "id": "9Fx1fYYC5qws"
      }
    },
    {
      "cell_type": "markdown",
      "source": [
        "11. Using pen & Paper write the internal mechanism for sum operation using  reduce function on this given\n",
        "list:[47,11,42,13];"
      ],
      "metadata": {
        "id": "Cyj7dF6J87YO"
      }
    },
    {
      "cell_type": "markdown",
      "source": [
        "![WhatsApp Image 2025-06-19 at 21.34.26_b3183146.jpg](data:image/jpeg;base64,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)"
      ],
      "metadata": {
        "id": "_EkzJUa96W2v"
      }
    },
    {
      "cell_type": "code",
      "source": [
        "from functools import reduce\n",
        "print(reduce(lambda x,y: x+y,[1,2,3,4]))"
      ],
      "metadata": {
        "colab": {
          "base_uri": "https://localhost:8080/"
        },
        "id": "r7XPwIMC4Tg7",
        "outputId": "7dc3ae52-36d4-463d-cc65-4912d35543a8"
      },
      "execution_count": null,
      "outputs": [
        {
          "output_type": "stream",
          "name": "stdout",
          "text": [
            "10\n"
          ]
        }
      ]
    },
    {
      "cell_type": "markdown",
      "source": [
        "1. Write a Python function that takes a list of numbers as input and returns the sum of all even numbers in\n",
        "the list."
      ],
      "metadata": {
        "id": "ufe-dve7ivEf"
      }
    },
    {
      "cell_type": "code",
      "source": [
        "from functools import reduce\n",
        "\n",
        "def even_number_sum(list1):\n",
        "  return reduce(lambda x, y: x+y, list(filter(lambda i : i %2 == 0, list1)))\n",
        "\n",
        "even_number_sum([1,2,5,4,8,3,2,9])"
      ],
      "metadata": {
        "colab": {
          "base_uri": "https://localhost:8080/"
        },
        "id": "4gGJ5lvMjH-B",
        "outputId": "7de155d3-47c0-45e3-b68b-7fb97bc8a364"
      },
      "execution_count": null,
      "outputs": [
        {
          "output_type": "execute_result",
          "data": {
            "text/plain": [
              "16"
            ]
          },
          "metadata": {},
          "execution_count": 5
        }
      ]
    },
    {
      "cell_type": "markdown",
      "source": [
        "2. Create a Python function that accepts a string and returns the reverse of that string"
      ],
      "metadata": {
        "id": "5uXz4VHPivM5"
      }
    },
    {
      "cell_type": "code",
      "source": [
        "def rev_str(str1):\n",
        "  return str1[::-1]\n",
        "\n",
        "rev_str(\"hello\")\n"
      ],
      "metadata": {
        "colab": {
          "base_uri": "https://localhost:8080/",
          "height": 36
        },
        "id": "71PuMbjUkAwz",
        "outputId": "050c6b2d-f543-4e4f-ecd7-bc23fcc031e6"
      },
      "execution_count": null,
      "outputs": [
        {
          "output_type": "execute_result",
          "data": {
            "text/plain": [
              "'olleh'"
            ],
            "application/vnd.google.colaboratory.intrinsic+json": {
              "type": "string"
            }
          },
          "metadata": {},
          "execution_count": 15
        }
      ]
    },
    {
      "cell_type": "markdown",
      "source": [
        "3. Implement a Python function that takes a list of integers and returns a new list containing the squares of\n",
        "each number."
      ],
      "metadata": {
        "id": "-6qGMqJ2ivQ0"
      }
    },
    {
      "cell_type": "code",
      "source": [
        "def square(list1):\n",
        "  return list(map(lambda x:x**2, list1))\n",
        "\n",
        "square([1,2,3,4,5])"
      ],
      "metadata": {
        "colab": {
          "base_uri": "https://localhost:8080/"
        },
        "id": "WzQjU8O1llmY",
        "outputId": "fb9c76da-03b0-4fd1-e36e-0815dc39baa9"
      },
      "execution_count": null,
      "outputs": [
        {
          "output_type": "execute_result",
          "data": {
            "text/plain": [
              "[1, 4, 9, 16, 25]"
            ]
          },
          "metadata": {},
          "execution_count": 16
        }
      ]
    },
    {
      "cell_type": "markdown",
      "source": [
        "4. Write a Python function that checks if a given number is prime or not from 1 to 200."
      ],
      "metadata": {
        "id": "f9GJ4BSEivTY"
      }
    },
    {
      "cell_type": "code",
      "source": [
        "def is_prime(n):\n",
        "    if n < 2:\n",
        "        return False\n",
        "    for i in range(2, int(n**0.5) + 1):\n",
        "        if n % i == 0:\n",
        "            return False\n",
        "    return True\n",
        "\n",
        "# Check prime numbers from 1 to 200\n",
        "for num in range(1, 201):\n",
        "    if is_prime(num):\n",
        "        print(f\"{num} is a prime number\")"
      ],
      "metadata": {
        "id": "exE-vUTRmfgz",
        "colab": {
          "base_uri": "https://localhost:8080/"
        },
        "outputId": "e14e3f97-2671-4443-fea6-e4208eda40b3"
      },
      "execution_count": 22,
      "outputs": [
        {
          "output_type": "stream",
          "name": "stdout",
          "text": [
            "2 is a prime number\n",
            "3 is a prime number\n",
            "5 is a prime number\n",
            "7 is a prime number\n",
            "11 is a prime number\n",
            "13 is a prime number\n",
            "17 is a prime number\n",
            "19 is a prime number\n",
            "23 is a prime number\n",
            "29 is a prime number\n",
            "31 is a prime number\n",
            "37 is a prime number\n",
            "41 is a prime number\n",
            "43 is a prime number\n",
            "47 is a prime number\n",
            "53 is a prime number\n",
            "59 is a prime number\n",
            "61 is a prime number\n",
            "67 is a prime number\n",
            "71 is a prime number\n",
            "73 is a prime number\n",
            "79 is a prime number\n",
            "83 is a prime number\n",
            "89 is a prime number\n",
            "97 is a prime number\n",
            "101 is a prime number\n",
            "103 is a prime number\n",
            "107 is a prime number\n",
            "109 is a prime number\n",
            "113 is a prime number\n",
            "127 is a prime number\n",
            "131 is a prime number\n",
            "137 is a prime number\n",
            "139 is a prime number\n",
            "149 is a prime number\n",
            "151 is a prime number\n",
            "157 is a prime number\n",
            "163 is a prime number\n",
            "167 is a prime number\n",
            "173 is a prime number\n",
            "179 is a prime number\n",
            "181 is a prime number\n",
            "191 is a prime number\n",
            "193 is a prime number\n",
            "197 is a prime number\n",
            "199 is a prime number\n"
          ]
        }
      ]
    },
    {
      "cell_type": "markdown",
      "source": [
        "5. Create an iterator class in Python that generates the Fibonacci sequence up to a specified number of\n",
        "terms"
      ],
      "metadata": {
        "id": "jN1KEnxfivWJ"
      }
    },
    {
      "cell_type": "code",
      "source": [
        "class Fibonacci:\n",
        "  def fibonacci(self,n):\n",
        "    a,b = 0,1\n",
        "\n",
        "    for _ in range(n):\n",
        "      print(a, end=\" \")\n",
        "      a,b = b,a+b\n",
        "\n",
        "res = Fibonacci()\n",
        "res.fibonacci(10)"
      ],
      "metadata": {
        "colab": {
          "base_uri": "https://localhost:8080/"
        },
        "id": "j4EyyJhMtj28",
        "outputId": "007ae99a-164a-4454-deb6-16f70a95e56b"
      },
      "execution_count": 30,
      "outputs": [
        {
          "output_type": "stream",
          "name": "stdout",
          "text": [
            "0 1 1 2 3 5 8 13 21 34 "
          ]
        }
      ]
    },
    {
      "cell_type": "markdown",
      "source": [
        "6. Write a generator function in Python that yields the powers of 2 up to a given exponent.\n",
        "\n"
      ],
      "metadata": {
        "id": "fTF8kB1-ivZR"
      }
    },
    {
      "cell_type": "code",
      "source": [
        "def my_generator(num):\n",
        "  for i in range(num):\n",
        "    yield i**2\n",
        "\n",
        "gen = my_generator(10)\n",
        "for i in gen:\n",
        "  print(i)"
      ],
      "metadata": {
        "colab": {
          "base_uri": "https://localhost:8080/"
        },
        "id": "-kO2T1l4AWBm",
        "outputId": "9c29b1f6-8c36-40f4-adbe-4e829ecc03ab"
      },
      "execution_count": 33,
      "outputs": [
        {
          "output_type": "stream",
          "name": "stdout",
          "text": [
            "0\n",
            "1\n",
            "4\n",
            "9\n",
            "16\n",
            "25\n",
            "36\n",
            "49\n",
            "64\n",
            "81\n"
          ]
        }
      ]
    },
    {
      "cell_type": "markdown",
      "source": [],
      "metadata": {
        "id": "jemaNGe3ivcS"
      }
    },
    {
      "cell_type": "markdown",
      "source": [
        "7. Implement a generator function that reads a file line by line and yields each line as a string."
      ],
      "metadata": {
        "id": "jgTotxQTA2xc"
      }
    },
    {
      "cell_type": "code",
      "source": [
        "def my_generator(files):\n",
        "    for i in files:\n",
        "      yield i\n",
        "\n",
        "gen = my_generator(open(\"test.txt\"))\n",
        "for i in gen:\n",
        "  print(i)"
      ],
      "metadata": {
        "colab": {
          "base_uri": "https://localhost:8080/"
        },
        "id": "UOQJfMqLA_q1",
        "outputId": "55388fc1-c669-4967-c962-9cfab27d953a"
      },
      "execution_count": 38,
      "outputs": [
        {
          "output_type": "stream",
          "name": "stdout",
          "text": [
            "hello sir have a nice day\n"
          ]
        }
      ]
    },
    {
      "cell_type": "markdown",
      "source": [
        "8. Use a lambda function in Python to sort a list of tuples based on the second element of each tuple."
      ],
      "metadata": {
        "id": "yiKmlpVtivfL"
      }
    },
    {
      "cell_type": "code",
      "source": [
        "res = [(1,23,3),(3,2,6),(2,1,6,8,9),(1,32,5,1)]\n",
        "res.sort(key=lambda x:x[1])\n",
        "print(res)"
      ],
      "metadata": {
        "colab": {
          "base_uri": "https://localhost:8080/"
        },
        "id": "f7jbytMkESIM",
        "outputId": "7843972b-a48f-4c59-c949-30fce0fe79f0"
      },
      "execution_count": 43,
      "outputs": [
        {
          "output_type": "stream",
          "name": "stdout",
          "text": [
            "[(2, 1, 6, 8, 9), (3, 2, 6), (1, 23, 3), (1, 32, 5, 1)]\n"
          ]
        }
      ]
    },
    {
      "cell_type": "markdown",
      "source": [
        "9. Write a Python program that uses `map()` to convert a list of temperatures from Celsius to Fahrenheit."
      ],
      "metadata": {
        "id": "sUwGsL2mivi6"
      }
    },
    {
      "cell_type": "code",
      "source": [
        "print(list(map(lambda x:(x * 9/5)+ 32,[32])))"
      ],
      "metadata": {
        "colab": {
          "base_uri": "https://localhost:8080/"
        },
        "id": "--rJHF9dIILI",
        "outputId": "60736ac5-18ea-4fd8-d6a4-d2fe884ec00d"
      },
      "execution_count": 10,
      "outputs": [
        {
          "output_type": "stream",
          "name": "stdout",
          "text": [
            "[89.6]\n"
          ]
        }
      ]
    },
    {
      "cell_type": "markdown",
      "source": [
        "10. Create a Python program that uses `filter()` to remove all the vowels from a given string"
      ],
      "metadata": {
        "id": "1FwLOnJtJ3Wy"
      }
    },
    {
      "cell_type": "code",
      "source": [
        "print(''.join(filter(lambda x: x not in ['a','e','i','o','u'],\"akshay\")))"
      ],
      "metadata": {
        "colab": {
          "base_uri": "https://localhost:8080/"
        },
        "id": "31k8_eGOK0kr",
        "outputId": "b3933e15-7957-4005-be8d-f198f7e837fa"
      },
      "execution_count": 12,
      "outputs": [
        {
          "output_type": "stream",
          "name": "stdout",
          "text": [
            "kshy\n"
          ]
        }
      ]
    },
    {
      "cell_type": "markdown",
      "source": [
        "11. Imagine an accounting routine used in a book shop. It works on a list with sublists, which look like this:"
      ],
      "metadata": {
        "id": "4griBrehLPF4"
      }
    },
    {
      "cell_type": "code",
      "source": [
        "print(list(map(lambda x:(x,x*2),[12,3,44,5])))"
      ],
      "metadata": {
        "colab": {
          "base_uri": "https://localhost:8080/"
        },
        "id": "GOVzFpVgLD4h",
        "outputId": "8ec8e020-2091-4b73-e39b-0ed6bbea0a2f"
      },
      "execution_count": 14,
      "outputs": [
        {
          "output_type": "stream",
          "name": "stdout",
          "text": [
            "[(12, 24), (3, 6), (44, 88), (5, 10)]\n"
          ]
        }
      ]
    },
    {
      "cell_type": "code",
      "source": [
        "price = [40.95,56.80,32.95,24.99]"
      ],
      "metadata": {
        "id": "R4ug3fohhkab"
      },
      "execution_count": 64,
      "outputs": []
    },
    {
      "cell_type": "code",
      "source": [
        "quantity = [4,5,3,3]"
      ],
      "metadata": {
        "id": "t9MNzMwMhuTB"
      },
      "execution_count": 65,
      "outputs": []
    },
    {
      "cell_type": "code",
      "source": [
        "print(list(map(lambda x: x[0]*x[1], zip(price,quantity))))"
      ],
      "metadata": {
        "colab": {
          "base_uri": "https://localhost:8080/"
        },
        "id": "6t7J3SKAN4An",
        "outputId": "6868d79b-6af2-4aaf-e379-bf5be8c771a7"
      },
      "execution_count": 66,
      "outputs": [
        {
          "output_type": "stream",
          "name": "stdout",
          "text": [
            "[163.8, 284.0, 98.85000000000001, 74.97]\n"
          ]
        }
      ]
    },
    {
      "cell_type": "code",
      "source": [
        "print(res)"
      ],
      "metadata": {
        "colab": {
          "base_uri": "https://localhost:8080/"
        },
        "id": "nvGFqeHyPoEe",
        "outputId": "41c7e7d7-43c9-4dce-b2b7-aec1d0f60710"
      },
      "execution_count": 20,
      "outputs": [
        {
          "output_type": "stream",
          "name": "stdout",
          "text": [
            "[(40.95, 1676.9025000000001), (56.8, 2325.96), (32.95, 1349.3025000000002), (24.99, 1023.3405)]\n"
          ]
        }
      ]
    },
    {
      "cell_type": "code",
      "source": [
        "str = [34587,98762,77226,88112]"
      ],
      "metadata": {
        "id": "k8AOO3XIPuXT"
      },
      "execution_count": 67,
      "outputs": []
    },
    {
      "cell_type": "code",
      "source": [
        "res1 = list(zip(str,res))"
      ],
      "metadata": {
        "id": "KNZt7FQoSbOi"
      },
      "execution_count": 68,
      "outputs": []
    },
    {
      "cell_type": "code",
      "source": [
        "print(res1)"
      ],
      "metadata": {
        "colab": {
          "base_uri": "https://localhost:8080/"
        },
        "id": "Skvrk5ckQNTG",
        "outputId": "773f0705-8fea-4f67-d9a9-2750f319bab2"
      },
      "execution_count": 69,
      "outputs": [
        {
          "output_type": "stream",
          "name": "stdout",
          "text": [
            "[(34587, (40.95, 1676.9025000000001)), (98762, (56.8, 2325.96)), (77226, (32.95, 1349.3025000000002)), (88112, (24.99, 1023.3405))]\n"
          ]
        }
      ]
    },
    {
      "cell_type": "code",
      "source": [
        "print(list(map(lambda x: x[1][1] < 10000, res1)))"
      ],
      "metadata": {
        "colab": {
          "base_uri": "https://localhost:8080/"
        },
        "id": "WRUGT6-tQQKW",
        "outputId": "a3eab6e3-db75-4efd-bd2a-4001932a8898"
      },
      "execution_count": 70,
      "outputs": [
        {
          "output_type": "stream",
          "name": "stdout",
          "text": [
            "[True, True, True, True]\n"
          ]
        }
      ]
    },
    {
      "cell_type": "code",
      "source": [
        "print(list(map(lambda x: (x[0],x[1][0],x[1][1] + 10) if x[1][1] < 10000 else x, res1)))"
      ],
      "metadata": {
        "colab": {
          "base_uri": "https://localhost:8080/"
        },
        "id": "xRCVWqxSjBoW",
        "outputId": "2b35ec80-aa67-4371-c6ea-d4f18101aa32"
      },
      "execution_count": 78,
      "outputs": [
        {
          "output_type": "stream",
          "name": "stdout",
          "text": [
            "[(34587, 40.95, 1686.9025000000001), (98762, 56.8, 2335.96), (77226, 32.95, 1359.3025000000002), (88112, 24.99, 1033.3405)]\n"
          ]
        }
      ]
    },
    {
      "cell_type": "code",
      "source": [],
      "metadata": {
        "id": "MAm6UjnHj0mv"
      },
      "execution_count": null,
      "outputs": []
    }
  ]
}